{
  "nbformat": 4,
  "nbformat_minor": 0,
  "metadata": {
    "colab": {
      "provenance": [],
      "include_colab_link": true
    },
    "kernelspec": {
      "name": "python3",
      "display_name": "Python 3"
    }
  },
  "cells": [
    {
      "cell_type": "markdown",
      "metadata": {
        "id": "view-in-github",
        "colab_type": "text"
      },
      "source": [
        "<a href=\"https://colab.research.google.com/github/Bolgrmas13/Math311_Linear_Algebra_Projects/blob/main/Copy_of_Sports_Teams_Rankings.ipynb\" target=\"_parent\"><img src=\"https://colab.research.google.com/assets/colab-badge.svg\" alt=\"Open In Colab\"/></a>"
      ]
    },
    {
      "cell_type": "markdown",
      "metadata": {
        "id": "TwGBRAD9R6W4"
      },
      "source": [
        "# Load the preliminary code"
      ]
    },
    {
      "cell_type": "code",
      "metadata": {
        "id": "NaP8xyCfRrUg"
      },
      "source": [
        "import matplotlib.pyplot as plt\n",
        "from sympy import Poly\n",
        "import sympy as sym\n",
        "import numpy as np\n",
        "from numpy import c_\n",
        "\n",
        "# We'll specify that x and t are variables:\n",
        "x, t = sym.symbols('x, t')\n",
        "\n",
        "ll = \"loaded\""
      ],
      "execution_count": null,
      "outputs": []
    },
    {
      "cell_type": "code",
      "metadata": {
        "id": "CANB9fuMRyBP",
        "colab": {
          "base_uri": "https://localhost:8080/"
        },
        "outputId": "304aec82-25e4-43b0-ba35-82af3f851ad3"
      },
      "source": [
        "lll = \" correctly!\"\n",
        "\n",
        "def rref(matrix):\n",
        "    A = np.array(matrix, dtype=np.float64)\n",
        "\n",
        "    r = 0 #row\n",
        "    c = 0 #column\n",
        "\n",
        "    (maxr, maxc) = A.shape\n",
        "\n",
        "    prev_row_pivot = -1   # The previous row with a leading term:\n",
        "    tmp_pivot_row = -1\n",
        "    this_pivot_row = -1\n",
        "\n",
        "    for c in range(maxc):  # go through each column\n",
        "      tmp_pivot_row = -1  # reset the tmp pivot row\n",
        "      this_pivot_row = -1  # reset this pivot row\n",
        "      for r in range(maxr):  # Find the leading term in this column below prev_row_pivot\n",
        "        if ((r > prev_row_pivot) and (A[r][c] != 0.0)):\n",
        "          tmp_pivot_row = r  # find the new pivot row\n",
        "      if (tmp_pivot_row > -1):  # we found a candidate for the leading term:\n",
        "        #swap row this_pivot_row with (prev_row_pivot + 1)\n",
        "        A[[tmp_pivot_row, prev_row_pivot+1]] = A[[prev_row_pivot + 1, tmp_pivot_row]]\n",
        "        #set this_pivot_row to prev_row_pivot+1\n",
        "        this_pivot_row = prev_row_pivot + 1\n",
        "        #Now, normalize the row based on the pivot value:\n",
        "        A[ this_pivot_row ] = A[ this_pivot_row ] / A[ this_pivot_row ][c]\n",
        "        #Then, use this row to force 0's above and below the pivot entry:\n",
        "        #subtract multiples of of the this_pivot_row row from the others\n",
        "        for r_ in range(len(A)):\n",
        "            if r_ != this_pivot_row:\n",
        "                A[r_] = A[r_] - A[this_pivot_row] * A[r_][c] / A[this_pivot_row][c]\n",
        "        prev_row_pivot = this_pivot_row\n",
        "    return A\n",
        "\n",
        "\n",
        "def is_singular(matrix):\n",
        "  singular = True\n",
        "  notsingular = False\n",
        "\n",
        "  (mr, mc) = matrix.shape\n",
        "\n",
        "  return_value = notsingular\n",
        "  if (mc - np.linalg.linalg.matrix_rank(matrix) > 0) :\n",
        "    return_value = singular\n",
        "  return return_value\n",
        "\n",
        "\n",
        "\n",
        "\n",
        "print(\">> The page \", ll, lll)"
      ],
      "execution_count": null,
      "outputs": [
        {
          "output_type": "stream",
          "name": "stdout",
          "text": [
            ">> The page  loaded  correctly!\n"
          ]
        }
      ]
    },
    {
      "cell_type": "markdown",
      "metadata": {
        "id": "dCB31bhvTulU"
      },
      "source": [
        "# Ranking Teams based on games\n",
        "\n",
        "From our packet, we saw there were five games:\n",
        "\n",
        "Home  | Away\n",
        "------|------\n",
        "Winona State 16 | Sioux Falls 15\n",
        "Winona State 34 | Augustana 20\n",
        "Sioux Falls 51  | Augustana 13\n",
        "Duluth 28       |  Augustana 17\n",
        "Winona State 17 | Duluth 37\n",
        "\n",
        "Let's encode this system into a matrix.\n",
        "\n",
        "The unknown rankings are $r_w, r_s, r_a, r_d$.\n",
        "\n",
        "The system looks like $M \\vec{x} = \\vec{b}$, or\n",
        "\n",
        "$$\n",
        "\\left( \\begin{array}{cccc} 1 & -1 & 0 & 0 \\\\ 1 & 0 & -1 & 0 \\\\ 0 & 1 & -1 & 0 \\\\ 0 & 0 & -1 & 1 \\\\ -1 & 0  & 0 & 1 \\\\ \\end{array} \\right) \\, \\left( \\begin{array}{c} r_w \\\\ r_s \\\\ r_a \\\\ r_d \\\\ \\end{array} \\right) = \\left( \\begin{array}{c} 1 \\\\ 14 \\\\ 38 \\\\ 11 \\\\ 20 \\\\ \\end{array} \\right)$$\n",
        "\n",
        "We'll solve this system using least squares\n",
        "$$M^T I M \\vec{x} = M^T I \\vec{b} $$\n",
        "\n",
        "$$ \\vec{x} = \\left( M^T I M  \\right)^{-1} M^T I \\vec{b} $$\n",
        "\n",
        "\n",
        "\n",
        "\n"
      ]
    },
    {
      "cell_type": "code",
      "metadata": {
        "id": "zZOH_e5mViMs",
        "colab": {
          "base_uri": "https://localhost:8080/",
          "height": 104
        },
        "outputId": "1721ccdb-121b-4ed4-c8bc-2347073ecf1f"
      },
      "source": [
        "# create the matrix:\n",
        "M = np.matrix([[1, -1, 0, 0],\n",
        "               [1, 0, -1, 0],\n",
        "               [0, 1, -1, 0],\n",
        "               [0, 0, -1, 1],\n",
        "               [-1, 0, 0, 1]])\n",
        "\n",
        "\n",
        "# create the vector for the right hand side:\n",
        "pts = np.matrix([[1], [14], [38], [11], [20]])\n",
        "\n",
        "#Make sure the system looks appropriate:\n",
        "print(np.c_[M,pts])"
      ],
      "execution_count": null,
      "outputs": [
        {
          "output_type": "stream",
          "text": [
            "[[ 1 -1  0  0  1]\n",
            " [ 1  0 -1  0 14]\n",
            " [ 0  1 -1  0 38]\n",
            " [ 0  0 -1  1 11]\n",
            " [-1  0  0  1 20]]\n"
          ],
          "name": "stdout"
        }
      ]
    },
    {
      "cell_type": "code",
      "metadata": {
        "id": "s_r-ljCGWB18",
        "colab": {
          "base_uri": "https://localhost:8080/",
          "height": 347
        },
        "outputId": "e9dc900e-b4f9-4496-e3a0-8ed07ef25c85"
      },
      "source": [
        "# Generate the transpose of M:\n",
        "MT = M.transpose()\n",
        "\n",
        "print(\"The Transpose of M is:\")\n",
        "print(MT)\n",
        "\n",
        "# and find MT*M and MT*pts:\n",
        "print(\"\\n\")\n",
        "print(\"MT * M is: \")\n",
        "MTM = MT * M\n",
        "print(MTM)\n",
        "\n",
        "print(\"\\n\")\n",
        "print(\"MT * pts is:\")\n",
        "MTpts = MT * pts\n",
        "print(MTpts)\n"
      ],
      "execution_count": null,
      "outputs": [
        {
          "output_type": "stream",
          "text": [
            "The Transpose of M is:\n",
            "[[ 1  1  0  0 -1]\n",
            " [-1  0  1  0  0]\n",
            " [ 0 -1 -1 -1  0]\n",
            " [ 0  0  0  1  1]]\n",
            "\n",
            "\n",
            "MT * M is: \n",
            "[[ 3 -1 -1 -1]\n",
            " [-1  2 -1  0]\n",
            " [-1 -1  3 -1]\n",
            " [-1  0 -1  2]]\n",
            "\n",
            "\n",
            "MT * pts is:\n",
            "[[ -5]\n",
            " [ 37]\n",
            " [-63]\n",
            " [ 31]]\n"
          ],
          "name": "stdout"
        }
      ]
    },
    {
      "cell_type": "markdown",
      "metadata": {
        "id": "x38H0uPwbhpF"
      },
      "source": [
        "If $M^T M$ has an inverse, then we can use it.  But, if $M^T M$ is singular, then it doesn't have an inverse.  In this situation, we need to replace every entry in one row (say the bottom row) of $M^T M$ and $M^T \\vec{pts}$ with 1's.  (This knocks the system out of *not* having an inverse, so it will now have an inverse.)"
      ]
    },
    {
      "cell_type": "code",
      "metadata": {
        "id": "1ebWW4rZaopa",
        "colab": {
          "base_uri": "https://localhost:8080/",
          "height": 35
        },
        "outputId": "96ea5202-d2aa-4575-dada-5186053f96ee"
      },
      "source": [
        "#  Check if MTM is singular\n",
        "is_singular(MT*M)"
      ],
      "execution_count": null,
      "outputs": [
        {
          "output_type": "execute_result",
          "data": {
            "text/plain": [
              "True"
            ]
          },
          "metadata": {
            "tags": []
          },
          "execution_count": 82
        }
      ]
    },
    {
      "cell_type": "code",
      "metadata": {
        "id": "Hs_ZR78AbziT",
        "colab": {
          "base_uri": "https://localhost:8080/",
          "height": 225
        },
        "outputId": "24b9486a-5e51-44e8-e150-8ec93fc6112f"
      },
      "source": [
        "# If MTM is singular, then adjust one row of MTM and MT pts to be just 1's:\n",
        "\n",
        "#MTM[3] is the entire 4th row of MTM,\n",
        "#so MTM[3] = 1 will put 1's in MTM's 4th row.\n",
        "\n",
        "MTM[3] = 1\n",
        "MTpts[3] = 1\n",
        "\n",
        "print(\"MTM is now: \")\n",
        "print(MTM)\n",
        "\n",
        "print(\"and MTpts is now:\")\n",
        "print(MTpts)\n",
        "\n",
        "print(\"Is our modified MTM singular?\")\n",
        "is_singular(MTM)"
      ],
      "execution_count": null,
      "outputs": [
        {
          "output_type": "stream",
          "text": [
            "MTM is now: \n",
            "[[ 3 -1 -1 -1]\n",
            " [-1  2 -1  0]\n",
            " [-1 -1  3 -1]\n",
            " [ 1  1  1  1]]\n",
            "and MTpts is now:\n",
            "[[ -5]\n",
            " [ 37]\n",
            " [-63]\n",
            " [  1]]\n",
            "Is our modified MTM singular?\n"
          ],
          "name": "stdout"
        },
        {
          "output_type": "execute_result",
          "data": {
            "text/plain": [
              "False"
            ]
          },
          "metadata": {
            "tags": []
          },
          "execution_count": 83
        }
      ]
    },
    {
      "cell_type": "code",
      "metadata": {
        "id": "48WK4ZH7WRxH",
        "colab": {
          "base_uri": "https://localhost:8080/",
          "height": 225
        },
        "outputId": "7170124c-d885-468c-f2d4-01d1eff4e299"
      },
      "source": [
        "#Find our solution using the inverse of MTM:\n",
        "\n",
        "#First, find the inverse of MTM:\n",
        "MTMI = np.linalg.inv(MTM)\n",
        "\n",
        "print(\"The inverse of MTM is:\")\n",
        "print(MTMI)\n",
        "\n",
        "#Now, use the inverse of MTM to solve for the rankings:\n",
        "\n",
        "print(\"\\n\")\n",
        "print(\"The solution are rankings:\")\n",
        "MTMI * MTpts"
      ],
      "execution_count": null,
      "outputs": [
        {
          "output_type": "stream",
          "text": [
            "The inverse of MTM is:\n",
            "[[ 2.50000000e-01  0.00000000e+00  1.85037171e-17  2.50000000e-01]\n",
            " [ 1.25000000e-01  5.00000000e-01  1.25000000e-01  2.50000000e-01]\n",
            " [ 0.00000000e+00  0.00000000e+00  2.50000000e-01  2.50000000e-01]\n",
            " [-3.75000000e-01 -5.00000000e-01 -3.75000000e-01  2.50000000e-01]]\n",
            "\n",
            "\n",
            "The solution are rankings:\n"
          ],
          "name": "stdout"
        },
        {
          "output_type": "execute_result",
          "data": {
            "text/plain": [
              "matrix([[ -1.  ],\n",
              "        [ 10.25],\n",
              "        [-15.5 ],\n",
              "        [  7.25]])"
            ]
          },
          "metadata": {
            "tags": []
          },
          "execution_count": 84
        }
      ]
    },
    {
      "cell_type": "markdown",
      "metadata": {
        "id": "YOTdLT4-R-1h"
      },
      "source": [
        "#  Game Data  - Fall Sports\n",
        "\n",
        "Find the game data for the four teams in the NFC North and NFC South.\n",
        "\n",
        "The teams are:\n",
        "\n",
        "* **NFC North:**  Green Bay Packers, Chicago Bears, Detroit Lions, Minnesota Vikings\n",
        "* **NFC South:**  Atlanta Falcons, Carolina Panthers, New Orleans Saints, Tampa Bay Buccaneers\n",
        "\n",
        "\n",
        "It may be helpful to do a google search to find the data.\n",
        "\n",
        "Be sure to create your matrix on the handout, then enter the data for the system below.\n",
        "\n",
        "# Game Data - Spring Sports\n",
        "\n",
        "Find the game data for the seven teams in the Western Division for Men's Big Ten Basketball.\n",
        "\n",
        "**The teams:**  Wisconsin, Minnesota, Iowa, Illinois, Nebraska, Purdue, and Northewstern.\n",
        "\n",
        "I've provided **most** of the data, but you have to do a Google search to find the scores for the last two teams.\n",
        "\n",
        "Be sure to create your matrix on the handout, then enter the data for the system below.\n"
      ]
    },
    {
      "cell_type": "code",
      "metadata": {
        "id": "RrMkbXIC5v_X",
        "colab": {
          "base_uri": "https://localhost:8080/"
        },
        "outputId": "8a6a11e9-d6a5-4d97-834b-974271512c73"
      },
      "source": [
        "# create the matrix:\n",
        "M = np.matrix([[1,0, 0, 0,-1,0,0],\n",
        "               [-1, 0,0,0,0,1,0],\n",
        "               [-1, 0,0, 0,1,0,0],\n",
        "               [1, 0,0,-1,0,0,0],\n",
        "               [1,-1, 0,0,0,0,0],\n",
        "               [1,0,-1, 0,0,0,0],\n",
        "               [1,0, 0, 0,0,0,-1],\n",
        "               [-1,0, 0, 0,0,1,0],\n",
        "               [1, -1, 0, 0,0,0,0],\n",
        "               [0, -1, 0, 0,0,1,0],\n",
        "               [0, -1, 0,1,0,0,0],\n",
        "               [0,1, 0,-1,0,0,0],\n",
        "               [0,1,-1, 0,0,0,0],\n",
        "               [0, -1, 0, 0,0,1,0],\n",
        "               [0, 1, -1, 0,0,0,0],\n",
        "               [0,1, 0, 0,0,0,-1],\n",
        "               [0,1, 0, 0,-1,0,0],\n",
        "               [0,0,1,-1,0,0,0],\n",
        "               [0, 0,-1, 0,0,0,1],\n",
        "               [0, 0, 1, 0,-1,0,0],\n",
        "               [0, 0, -1, 0,0,1,0],\n",
        "               [0, 0, -1, 1,0,0,0],\n",
        "               [0, 0, -1, 0,1,0,0],\n",
        "               [0, 0, 0, -1,0,0,1],\n",
        "               [0, 0, 0, 1,0,-1,0],\n",
        "               [0, 0, 0,1,-1,0,0],\n",
        "               [0,0,0, 1,0,0,-1],\n",
        "               [0, 0, 0, -1,1,0,0],\n",
        "               [0, 0, 0, 0,1,-1,0],\n",
        "               [0, 0, 0, 0,-1,0,1],\n",
        "               [0, 0, 0, 0,-1,1,0],\n",
        "               [0,0, 0, 0,0,1,-1],\n",
        "               [0,0, 0, 0,0,1,-1]])\n",
        "\n",
        "\n",
        "# create the vector for the right hand side:\n",
        "pts = np.matrix([[30], [5], [5], [3], [10],[8],[8],[6],[8],[9],[11],[18],[9],[6],[5],[2],[7],[11],[2],[9],[8],[18],[24],[16],[16],[6],[8],[12],[4],[8],[9],[6],[8]])\n",
        "\n",
        "#Make sure the system looks appropriate:\n",
        "print(np.c_[M,pts])"
      ],
      "execution_count": null,
      "outputs": [
        {
          "output_type": "stream",
          "name": "stdout",
          "text": [
            "[[ 1  0  0  0 -1  0  0 30]\n",
            " [-1  0  0  0  0  1  0  5]\n",
            " [-1  0  0  0  1  0  0  5]\n",
            " [ 1  0  0 -1  0  0  0  3]\n",
            " [ 1 -1  0  0  0  0  0 10]\n",
            " [ 1  0 -1  0  0  0  0  8]\n",
            " [ 1  0  0  0  0  0 -1  8]\n",
            " [-1  0  0  0  0  1  0  6]\n",
            " [ 1 -1  0  0  0  0  0  8]\n",
            " [ 0 -1  0  0  0  1  0  9]\n",
            " [ 0 -1  0  1  0  0  0 11]\n",
            " [ 0  1  0 -1  0  0  0 18]\n",
            " [ 0  1 -1  0  0  0  0  9]\n",
            " [ 0 -1  0  0  0  1  0  6]\n",
            " [ 0  1 -1  0  0  0  0  5]\n",
            " [ 0  1  0  0  0  0 -1  2]\n",
            " [ 0  1  0  0 -1  0  0  7]\n",
            " [ 0  0  1 -1  0  0  0 11]\n",
            " [ 0  0 -1  0  0  0  1  2]\n",
            " [ 0  0  1  0 -1  0  0  9]\n",
            " [ 0  0 -1  0  0  1  0  8]\n",
            " [ 0  0 -1  1  0  0  0 18]\n",
            " [ 0  0 -1  0  1  0  0 24]\n",
            " [ 0  0  0 -1  0  0  1 16]\n",
            " [ 0  0  0  1  0 -1  0 16]\n",
            " [ 0  0  0  1 -1  0  0  6]\n",
            " [ 0  0  0  1  0  0 -1  8]\n",
            " [ 0  0  0 -1  1  0  0 12]\n",
            " [ 0  0  0  0  1 -1  0  4]\n",
            " [ 0  0  0  0 -1  0  1  8]\n",
            " [ 0  0  0  0 -1  1  0  9]\n",
            " [ 0  0  0  0  0  1 -1  6]\n",
            " [ 0  0  0  0  0  1 -1  8]]\n"
          ]
        }
      ]
    },
    {
      "cell_type": "code",
      "metadata": {
        "id": "TLLB3Ebe587M",
        "colab": {
          "base_uri": "https://localhost:8080/"
        },
        "outputId": "9a850b52-2908-48ca-dfa3-4a7064717433"
      },
      "source": [
        "# Generate the transpose of M:\n",
        "MT = M.transpose()\n",
        "\n",
        "print(\"The Transpose of M is:\")\n",
        "print(MT)\n",
        "\n",
        "# and find MT*M and MT*pts:\n",
        "print(\"\\n\")\n",
        "print(\"MT * M is: \")\n",
        "MTM = MT * M\n",
        "print(MTM)\n",
        "\n",
        "print(\"\\n\")\n",
        "print(\"MT * pts is:\")\n",
        "MTpts = MT * pts\n",
        "print(MTpts)\n"
      ],
      "execution_count": null,
      "outputs": [
        {
          "output_type": "stream",
          "name": "stdout",
          "text": [
            "The Transpose of M is:\n",
            "[[ 1 -1 -1  1  1  1  1 -1  1  0  0  0  0  0  0  0  0  0  0  0  0  0  0  0\n",
            "   0  0  0  0  0  0  0  0  0]\n",
            " [ 0  0  0  0 -1  0  0  0 -1 -1 -1  1  1 -1  1  1  1  0  0  0  0  0  0  0\n",
            "   0  0  0  0  0  0  0  0  0]\n",
            " [ 0  0  0  0  0 -1  0  0  0  0  0  0 -1  0 -1  0  0  1 -1  1 -1 -1 -1  0\n",
            "   0  0  0  0  0  0  0  0  0]\n",
            " [ 0  0  0 -1  0  0  0  0  0  0  1 -1  0  0  0  0  0 -1  0  0  0  1  0 -1\n",
            "   1  1  1 -1  0  0  0  0  0]\n",
            " [-1  0  1  0  0  0  0  0  0  0  0  0  0  0  0  0 -1  0  0 -1  0  0  1  0\n",
            "   0 -1  0  1  1 -1 -1  0  0]\n",
            " [ 0  1  0  0  0  0  0  1  0  1  0  0  0  1  0  0  0  0  0  0  1  0  0  0\n",
            "  -1  0  0  0 -1  0  1  1  1]\n",
            " [ 0  0  0  0  0  0 -1  0  0  0  0  0  0  0  0 -1  0  0  1  0  0  0  0  1\n",
            "   0  0 -1  0  0  1  0 -1 -1]]\n",
            "\n",
            "\n",
            "MT * M is: \n",
            "[[ 9 -2 -1 -1 -2 -2 -1]\n",
            " [-2 10 -2 -2 -1 -2 -1]\n",
            " [-1 -2  9 -2 -2 -1 -1]\n",
            " [-1 -2 -2 10 -2 -1 -2]\n",
            " [-2 -1 -2 -2 10 -2 -1]\n",
            " [-2 -2 -1 -1 -2 10 -2]\n",
            " [-1 -1 -1 -2 -1 -2  8]]\n",
            "\n",
            "\n",
            "MT * pts is:\n",
            "[[ 51]\n",
            " [ -3]\n",
            " [-54]\n",
            " [ -1]\n",
            " [-24]\n",
            " [ 37]\n",
            " [ -6]]\n"
          ]
        }
      ]
    },
    {
      "cell_type": "code",
      "metadata": {
        "id": "VXqKSDj06BVa",
        "colab": {
          "base_uri": "https://localhost:8080/"
        },
        "outputId": "ac00a5ab-b13a-4037-fe51-aa6357c8e4f5"
      },
      "source": [
        "#  Check if MTM is singular\n",
        "is_singular(MT*M)"
      ],
      "execution_count": null,
      "outputs": [
        {
          "output_type": "execute_result",
          "data": {
            "text/plain": [
              "True"
            ]
          },
          "metadata": {},
          "execution_count": 8
        }
      ]
    },
    {
      "cell_type": "code",
      "metadata": {
        "id": "5E2eXRT76MQh",
        "colab": {
          "base_uri": "https://localhost:8080/"
        },
        "outputId": "7c8d1516-2480-4302-a6d1-47052ec27d15"
      },
      "source": [
        "# Careful - you might not need to do this!\n",
        "# Be sure to check whether MTM is singular on the previous line.\n",
        "\n",
        "# If MTM is singular, then adjust one row of MTM and MT pts to be just 1's:\n",
        "\n",
        "#MTM[3] is the entire 4th row of MTM,\n",
        "#so MTM[3] = 1 will put 1's in MTM's 4th row.\n",
        "\n",
        "MTM[3] = 1\n",
        "MTpts[3] = 1\n",
        "\n",
        "print(\"MTM is now: \")\n",
        "print(MTM)\n",
        "\n",
        "print(\"and MTpts is now:\")\n",
        "print(MTpts)\n",
        "\n",
        "print(\"Is our modified MTM singular?\")\n",
        "is_singular(MTM)"
      ],
      "execution_count": null,
      "outputs": [
        {
          "output_type": "stream",
          "name": "stdout",
          "text": [
            "MTM is now: \n",
            "[[ 9 -2 -1 -1 -2 -2 -1]\n",
            " [-2 10 -2 -2 -1 -2 -1]\n",
            " [-1 -2  9 -2 -2 -1 -1]\n",
            " [ 1  1  1  1  1  1  1]\n",
            " [-2 -1 -2 -2 10 -2 -1]\n",
            " [-2 -2 -1 -1 -2 10 -2]\n",
            " [-1 -1 -1 -2 -1 -2  8]]\n",
            "and MTpts is now:\n",
            "[[ 51]\n",
            " [ -3]\n",
            " [-54]\n",
            " [  1]\n",
            " [-24]\n",
            " [ 37]\n",
            " [ -6]]\n",
            "Is our modified MTM singular?\n"
          ]
        },
        {
          "output_type": "execute_result",
          "data": {
            "text/plain": [
              "False"
            ]
          },
          "metadata": {},
          "execution_count": 9
        }
      ]
    },
    {
      "cell_type": "code",
      "metadata": {
        "id": "UkDKmNba6YHi",
        "colab": {
          "base_uri": "https://localhost:8080/"
        },
        "outputId": "e8acc417-277e-4253-b6ff-dbb8be10f592"
      },
      "source": [
        "#Find our solution using the inverse of MTM:\n",
        "\n",
        "#First, find the inverse of MTM:\n",
        "MTMI = np.linalg.inv(MTM)\n",
        "\n",
        "print(\"The inverse of MTM is:\")\n",
        "print(MTMI)\n",
        "\n",
        "#Now, use the inverse of MTM to solve for the rankings:\n",
        "\n",
        "print(\"\\n\")\n",
        "print(\"The solution are rankings:\")\n",
        "MTMI * MTpts"
      ],
      "execution_count": null,
      "outputs": [
        {
          "output_type": "stream",
          "name": "stdout",
          "text": [
            "The inverse of MTM is:\n",
            "[[ 1.00989877e-01  8.53546896e-03  7.24461100e-05  1.42857143e-01\n",
            "   8.53546896e-03  9.17431193e-03 -7.96907210e-04]\n",
            " [ 7.17875090e-04  8.45787378e-02  7.17875090e-04  1.42857143e-01\n",
            "  -6.33035306e-03 -4.35697989e-18 -7.89662599e-03]\n",
            " [-9.10186582e-03 -6.38842970e-04  9.18155654e-02  1.42857143e-01\n",
            "  -6.38842970e-04 -9.17431193e-03 -9.97121914e-03]\n",
            " [-9.24544083e-02 -8.46368145e-02 -8.32800964e-02  1.42857143e-01\n",
            "  -8.46368145e-02 -9.17431193e-02 -8.39189394e-02]\n",
            " [ 7.17875090e-04 -6.33035306e-03  7.17875090e-04  1.42857143e-01\n",
            "   8.45787378e-02 -0.00000000e+00 -7.89662599e-03]\n",
            " [ 8.46302285e-03  7.10630479e-03 -7.11289080e-04  1.42857143e-01\n",
            "   7.10630479e-03  9.17431193e-02  7.82417988e-03]\n",
            " [-9.33237617e-03 -8.61450108e-03 -9.33237617e-03  1.42857143e-01\n",
            "  -8.61450108e-03 -2.97722857e-18  1.02656138e-01]]\n",
            "\n",
            "\n",
            "The solution are rankings:\n"
          ]
        },
        {
          "output_type": "execute_result",
          "data": {
            "text/plain": [
              "matrix([[ 5.40320212],\n",
              "        [ 0.08627553],\n",
              "        [-5.54175201],\n",
              "        [-0.68098026],\n",
              "        [-1.82281538],\n",
              "        [ 3.76856102],\n",
              "        [-0.21249103]])"
            ]
          },
          "metadata": {},
          "execution_count": 10
        }
      ]
    }
  ]
}