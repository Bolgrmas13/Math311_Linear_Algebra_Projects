{
  "nbformat": 4,
  "nbformat_minor": 0,
  "metadata": {
    "colab": {
      "provenance": [],
      "authorship_tag": "ABX9TyMIalJXx91ISM+g5ms7Sxs/",
      "include_colab_link": true
    },
    "kernelspec": {
      "name": "python3",
      "display_name": "Python 3"
    },
    "language_info": {
      "name": "python"
    }
  },
  "cells": [
    {
      "cell_type": "markdown",
      "metadata": {
        "id": "view-in-github",
        "colab_type": "text"
      },
      "source": [
        "<a href=\"https://colab.research.google.com/github/Bolgrmas13/Math311_Linear_Algebra_Projects/blob/main/Gram_Schmidt.ipynb\" target=\"_parent\"><img src=\"https://colab.research.google.com/assets/colab-badge.svg\" alt=\"Open In Colab\"/></a>"
      ]
    },
    {
      "cell_type": "markdown",
      "source": [],
      "metadata": {
        "id": "4wdPYUzo1PM7"
      }
    },
    {
      "cell_type": "code",
      "execution_count": 7,
      "metadata": {
        "id": "BeQkjFFp1IQH"
      },
      "outputs": [],
      "source": [
        "import matplotlib.pyplot as plt\n",
        "from sympy import Poly\n",
        "import sympy as sym\n",
        "import numpy as np\n",
        "from numpy import c_\n",
        "\n",
        "# We'll specify that x and t are variables:\n",
        "x, t = sym.symbols('x, t')\n",
        "\n",
        "ll = \"loaded\""
      ]
    },
    {
      "cell_type": "code",
      "source": [
        "# Let's make a vector..... not happening.\n",
        "# How about a matrix?\n",
        "zz = np.matrix('1; 2; 3; 4')\n",
        "zz"
      ],
      "metadata": {
        "colab": {
          "base_uri": "https://localhost:8080/"
        },
        "id": "9CbgsvBj19Za",
        "outputId": "b77bb950-18c5-4526-d754-a0b304921766"
      },
      "execution_count": 4,
      "outputs": [
        {
          "output_type": "execute_result",
          "data": {
            "text/plain": [
              "matrix([[1],\n",
              "        [2],\n",
              "        [3],\n",
              "        [4]])"
            ]
          },
          "metadata": {},
          "execution_count": 4
        }
      ]
    },
    {
      "cell_type": "code",
      "source": [
        "#Can we scale?\n",
        "5*zz"
      ],
      "metadata": {
        "colab": {
          "base_uri": "https://localhost:8080/"
        },
        "id": "3MOekN0v2-p5",
        "outputId": "6b0027e7-c132-41aa-ce28-93afc2372c9f"
      },
      "execution_count": 5,
      "outputs": [
        {
          "output_type": "execute_result",
          "data": {
            "text/plain": [
              "matrix([[ 5],\n",
              "        [10],\n",
              "        [15],\n",
              "        [20]])"
            ]
          },
          "metadata": {},
          "execution_count": 5
        }
      ]
    },
    {
      "cell_type": "code",
      "source": [
        "# is there a dot product?\n",
        "zz.dot(zz)"
      ],
      "metadata": {
        "colab": {
          "base_uri": "https://localhost:8080/",
          "height": 158
        },
        "id": "U-fBLHOW3JE1",
        "outputId": "5864a787-a64e-472a-8b22-a7c58f298a56"
      },
      "execution_count": 6,
      "outputs": [
        {
          "output_type": "error",
          "ename": "ValueError",
          "evalue": "shapes (4,1) and (4,1) not aligned: 1 (dim 1) != 4 (dim 0)",
          "traceback": [
            "\u001b[0;31m---------------------------------------------------------------------------\u001b[0m",
            "\u001b[0;31mValueError\u001b[0m                                Traceback (most recent call last)",
            "\u001b[0;32m<ipython-input-6-5ae349d75e0a>\u001b[0m in \u001b[0;36m<cell line: 2>\u001b[0;34m()\u001b[0m\n\u001b[1;32m      1\u001b[0m \u001b[0;31m# is there a dot product?\u001b[0m\u001b[0;34m\u001b[0m\u001b[0;34m\u001b[0m\u001b[0m\n\u001b[0;32m----> 2\u001b[0;31m \u001b[0mzz\u001b[0m\u001b[0;34m.\u001b[0m\u001b[0mdot\u001b[0m\u001b[0;34m(\u001b[0m\u001b[0mzz\u001b[0m\u001b[0;34m)\u001b[0m\u001b[0;34m\u001b[0m\u001b[0;34m\u001b[0m\u001b[0m\n\u001b[0m",
            "\u001b[0;31mValueError\u001b[0m: shapes (4,1) and (4,1) not aligned: 1 (dim 1) != 4 (dim 0)"
          ]
        }
      ]
    },
    {
      "cell_type": "code",
      "source": [
        "# is there a magnitude?\n",
        "zz.size"
      ],
      "metadata": {
        "colab": {
          "base_uri": "https://localhost:8080/"
        },
        "id": "TJZfE-Rw3V9n",
        "outputId": "b1e01c3b-6886-4b87-82d3-0df5914b3ba4"
      },
      "execution_count": 7,
      "outputs": [
        {
          "output_type": "execute_result",
          "data": {
            "text/plain": [
              "4"
            ]
          },
          "metadata": {},
          "execution_count": 7
        }
      ]
    },
    {
      "cell_type": "code",
      "source": [
        "# matrice won't work\n",
        "# Lets try array\n",
        "yy = np.array([1,2,3,4])\n",
        "yy"
      ],
      "metadata": {
        "colab": {
          "base_uri": "https://localhost:8080/"
        },
        "id": "WlY69XTR3jBH",
        "outputId": "91e99917-e004-4f46-a855-c5c5f1cb7b34"
      },
      "execution_count": 10,
      "outputs": [
        {
          "output_type": "execute_result",
          "data": {
            "text/plain": [
              "array([1, 2, 3, 4])"
            ]
          },
          "metadata": {},
          "execution_count": 10
        }
      ]
    },
    {
      "cell_type": "code",
      "source": [
        "yy.dot(yy)"
      ],
      "metadata": {
        "colab": {
          "base_uri": "https://localhost:8080/"
        },
        "id": "LBm0znzT4WUP",
        "outputId": "04b7d98e-7079-42a6-9ce9-a92a346039ac"
      },
      "execution_count": 11,
      "outputs": [
        {
          "output_type": "execute_result",
          "data": {
            "text/plain": [
              "30"
            ]
          },
          "metadata": {},
          "execution_count": 11
        }
      ]
    },
    {
      "cell_type": "code",
      "source": [
        "np.sqrt(9)"
      ],
      "metadata": {
        "colab": {
          "base_uri": "https://localhost:8080/"
        },
        "id": "Oo5mk4HS4dqc",
        "outputId": "668ebea6-83b4-453b-8b4c-56050eb0ec3d"
      },
      "execution_count": 12,
      "outputs": [
        {
          "output_type": "execute_result",
          "data": {
            "text/plain": [
              "3.0"
            ]
          },
          "metadata": {},
          "execution_count": 12
        }
      ]
    },
    {
      "cell_type": "markdown",
      "source": [
        "Gram Schmidt Process:\n",
        "\n",
        "1. Start with \"random\" vectors r1, r2, r3, and r4.\n",
        "2. Process them in order, generating: u1, u2, u3, and u4.\n",
        "\n",
        "After each step, we'll check that our nice vectors are:\n",
        "*Orthogonal to previous nice vectors\n",
        "*have magnitude of 1"
      ],
      "metadata": {
        "id": "PyZHaTBc5A97"
      }
    },
    {
      "cell_type": "code",
      "source": [
        "# These are the \"random vectors\"\n",
        "r1= np.array( [3,0,3,0])\n",
        "print(\"r1 is\", r1)\n",
        "\n",
        "r2= np.array( [3,2,3,3])\n",
        "print(\"r2 is\", r2)\n",
        "\n",
        "r3= np.array( [-7,-4,-5,-6])\n",
        "print(\"r3 is\", r3)\n",
        "\n",
        "r4= np.array( [-7,-3,-11,2])\n",
        "print(\"r4 is\", r4)"
      ],
      "metadata": {
        "colab": {
          "base_uri": "https://localhost:8080/"
        },
        "id": "OM16odHc4_ov",
        "outputId": "5e1826d7-b7ae-4be3-87fa-0a70534f1cf7"
      },
      "execution_count": 13,
      "outputs": [
        {
          "output_type": "stream",
          "name": "stdout",
          "text": [
            "r1 is [3 0 3 0]\n",
            "r2 is [3 2 3 3]\n",
            "r3 is [-7 -4 -5 -6]\n",
            "r4 is [ -7  -3 -11   2]\n"
          ]
        }
      ]
    },
    {
      "cell_type": "code",
      "source": [
        "# Let's process the vectors:\n",
        "  # Select a random vector, and subtract the nice pieces.\n",
        "  #   t= r - ____ u1 - ____ u2 - ____ u3.....\n",
        "  #       Where the ____"
      ],
      "metadata": {
        "id": "cq_aGGz96k5z"
      },
      "execution_count": null,
      "outputs": []
    },
    {
      "cell_type": "code",
      "source": [
        "#Process r1:\n",
        "t1 = r1\n",
        "print(\"t1 = \", t1)\n",
        "\n",
        "#Magnitude\n",
        "n1 = np.sqrt (t1.dot(t1))\n",
        "print(\"the size of t1 is \", n1)\n",
        "#create u1:\n",
        "u1 = (1/n1)*t1\n",
        "print(\"u1 is \", u1)"
      ],
      "metadata": {
        "colab": {
          "base_uri": "https://localhost:8080/"
        },
        "id": "aVR-9Hud7D6B",
        "outputId": "c0eee95a-d476-4aba-c4e9-4969a6c01dbf"
      },
      "execution_count": 14,
      "outputs": [
        {
          "output_type": "stream",
          "name": "stdout",
          "text": [
            "t1 =  [3 0 3 0]\n",
            "the size of t1 is  4.242640687119285\n",
            "u1 is  [0.70710678 0.         0.70710678 0.        ]\n"
          ]
        }
      ]
    },
    {
      "cell_type": "code",
      "source": [
        "# sanity check:\n",
        "print(\"the size of u1 is \", np.sqrt(u1.dot(u1)))"
      ],
      "metadata": {
        "colab": {
          "base_uri": "https://localhost:8080/"
        },
        "id": "vqIYT3CI9G4u",
        "outputId": "fe9c525f-fd16-47d3-b6c2-bead4abbf110"
      },
      "execution_count": 15,
      "outputs": [
        {
          "output_type": "stream",
          "name": "stdout",
          "text": [
            "the size of u1 is  1.0\n"
          ]
        }
      ]
    },
    {
      "cell_type": "code",
      "source": [
        "#Process r2:\n",
        "t2 = r2 - (r2.dot(u1)) *u1\n",
        "print(\"t2 = \", t2)\n",
        "\n",
        "#Magnitude\n",
        "n1 = np.sqrt (t2.dot(t2))\n",
        "print(\"the size of t2 is \", n1)\n",
        "#create u2:\n",
        "u2 = (1/n1)*t2\n",
        "print(\"u2 is \", u2)"
      ],
      "metadata": {
        "colab": {
          "base_uri": "https://localhost:8080/"
        },
        "id": "wxOWldrT9gLo",
        "outputId": "1689957a-5f02-42ac-bbb6-e27027e0af3d"
      },
      "execution_count": 16,
      "outputs": [
        {
          "output_type": "stream",
          "name": "stdout",
          "text": [
            "t2 =  [-4.4408921e-16  2.0000000e+00 -4.4408921e-16  3.0000000e+00]\n",
            "the size of t2 is  3.605551275463989\n",
            "u2 is  [-1.23168186e-16  5.54700196e-01 -1.23168186e-16  8.32050294e-01]\n"
          ]
        }
      ]
    },
    {
      "cell_type": "code",
      "source": [
        "(5.54700196e-01)*(5.54700196e-01)"
      ],
      "metadata": {
        "colab": {
          "base_uri": "https://localhost:8080/"
        },
        "id": "-RvpxM6NBn5W",
        "outputId": "a76958fd-b07d-481a-ced9-aeaae99e0ce1"
      },
      "execution_count": 40,
      "outputs": [
        {
          "output_type": "execute_result",
          "data": {
            "text/plain": [
              "0.3076923074424384"
            ]
          },
          "metadata": {},
          "execution_count": 40
        }
      ]
    },
    {
      "cell_type": "code",
      "source": [
        "2/np.sqrt(13)"
      ],
      "metadata": {
        "colab": {
          "base_uri": "https://localhost:8080/"
        },
        "id": "OSQnF95lBv_B",
        "outputId": "8db54afa-4200-4dd0-b8fa-509d2e379643"
      },
      "execution_count": 41,
      "outputs": [
        {
          "output_type": "execute_result",
          "data": {
            "text/plain": [
              "0.5547001962252291"
            ]
          },
          "metadata": {},
          "execution_count": 41
        }
      ]
    },
    {
      "cell_type": "code",
      "source": [
        "# sanity check:\n",
        "print(\"the size of u2 is \", np.sqrt(u2.dot(u2)))\n",
        "\n",
        "print(\"the dot product of u1 and u2 is \", u2.dot(u1))"
      ],
      "metadata": {
        "colab": {
          "base_uri": "https://localhost:8080/"
        },
        "id": "dIwUctoLBz_y",
        "outputId": "2aab5f5a-5b67-4985-a946-ef10c21c3061"
      },
      "execution_count": 42,
      "outputs": [
        {
          "output_type": "stream",
          "name": "stdout",
          "text": [
            "the size of u2 is  1.0\n",
            "the dot product of u1 and u2 is  -1.741861189847285e-16\n"
          ]
        }
      ]
    },
    {
      "cell_type": "code",
      "source": [
        "#Process r3:\n",
        "t3 = r3 -(r3.dot(u1)) *u1 -(r3.dot(u2)) *u2\n",
        "print(\"t3 = \", t3)\n",
        "\n",
        "#Magnitude\n",
        "n1 = np.sqrt (t3.dot(t3))\n",
        "print(\"the size of t3 is \", n1)\n",
        "#create u3:\n",
        "u3 = (1/n1)*t3\n",
        "print(\"u3 is \", u3)"
      ],
      "metadata": {
        "colab": {
          "base_uri": "https://localhost:8080/"
        },
        "id": "MCmKfgXSB7NU",
        "outputId": "1837d02c-6db0-49c9-d54a-2948b0eaf0b4"
      },
      "execution_count": 17,
      "outputs": [
        {
          "output_type": "stream",
          "name": "stdout",
          "text": [
            "t3 =  [-1.0000000e+00 -4.4408921e-16  1.0000000e+00 -8.8817842e-16]\n",
            "the size of t3 is  1.4142135623730951\n",
            "u3 is  [-7.07106781e-01 -3.14018492e-16  7.07106781e-01 -6.28036983e-16]\n"
          ]
        }
      ]
    },
    {
      "cell_type": "code",
      "source": [
        "# sanity check:\n",
        "print(\"the size of u3 is \", np.sqrt(u3.dot(u3)))\n"
      ],
      "metadata": {
        "colab": {
          "base_uri": "https://localhost:8080/"
        },
        "id": "m9Fc2kJTTIaw",
        "outputId": "e9e96351-bff3-432b-da81-12faf952ae8e"
      },
      "execution_count": 18,
      "outputs": [
        {
          "output_type": "stream",
          "name": "stdout",
          "text": [
            "the size of u3 is  0.9999999999999999\n"
          ]
        }
      ]
    },
    {
      "cell_type": "code",
      "source": [
        "#Process r4:\n",
        "t4 = r4 -((r4.dot(u1)) *u1 -(r4.dot(u2)) *u2 - (r4.dot(u3)) * u3)\n",
        "print(\"t4 = \", t4)\n",
        "\n",
        "#Magnitude\n",
        "n1 = np.sqrt (t4.dot(t4))\n",
        "print(\"the size of t4 is \", n1)\n",
        "#create u4:\n",
        "u4 = (1/n1)*t4\n",
        "print(\"u4 is \", u4)"
      ],
      "metadata": {
        "colab": {
          "base_uri": "https://localhost:8080/"
        },
        "id": "9HruQ00ITU2x",
        "outputId": "6a50bad3-2ab4-4034-a332-3b07386b2593"
      },
      "execution_count": 20,
      "outputs": [
        {
          "output_type": "stream",
          "name": "stdout",
          "text": [
            "t4 =  [ 4. -3. -4.  2.]\n",
            "the size of t4 is  6.708203932499369\n",
            "u4 is  [ 0.59628479 -0.4472136  -0.59628479  0.2981424 ]\n"
          ]
        }
      ]
    }
  ]
}